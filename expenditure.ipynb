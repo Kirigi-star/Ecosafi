{
 "cells": [
  {
   "cell_type": "markdown",
   "metadata": {},
   "source": [
    "An analysis of monthly expenditure month on month"
   ]
  },
  {
   "cell_type": "code",
   "execution_count": 1,
   "metadata": {},
   "outputs": [
    {
     "data": {
      "text/html": [
       "<div>\n",
       "<style scoped>\n",
       "    .dataframe tbody tr th:only-of-type {\n",
       "        vertical-align: middle;\n",
       "    }\n",
       "\n",
       "    .dataframe tbody tr th {\n",
       "        vertical-align: top;\n",
       "    }\n",
       "\n",
       "    .dataframe thead th {\n",
       "        text-align: right;\n",
       "    }\n",
       "</style>\n",
       "<table border=\"1\" class=\"dataframe\">\n",
       "  <thead>\n",
       "    <tr style=\"text-align: right;\">\n",
       "      <th></th>\n",
       "      <th>ApprovalId</th>\n",
       "      <th>Transaction Id</th>\n",
       "      <th>Transaction Type</th>\n",
       "      <th>Transaction Status</th>\n",
       "      <th>Date</th>\n",
       "      <th>Account Name</th>\n",
       "      <th>Account Number</th>\n",
       "      <th>Account Type</th>\n",
       "      <th>Payment Category</th>\n",
       "      <th>Cheque Number</th>\n",
       "      <th>...</th>\n",
       "      <th>Initiated By</th>\n",
       "      <th>Approved/Rejected By</th>\n",
       "      <th>Receipt Number</th>\n",
       "      <th>Reference Id</th>\n",
       "      <th>Amount</th>\n",
       "      <th>Charges</th>\n",
       "      <th>Commission Amount</th>\n",
       "      <th>Debit</th>\n",
       "      <th>Credit</th>\n",
       "      <th>Balance After</th>\n",
       "    </tr>\n",
       "  </thead>\n",
       "  <tbody>\n",
       "    <tr>\n",
       "      <th>0</th>\n",
       "      <td>11244964.0</td>\n",
       "      <td>12367005</td>\n",
       "      <td>Payment</td>\n",
       "      <td>Successful</td>\n",
       "      <td>18/11/2024 11:28:32 AM</td>\n",
       "      <td>Elizaphan Ombaso</td>\n",
       "      <td>254713947710</td>\n",
       "      <td>MpesaPhoneNumber</td>\n",
       "      <td>NaN</td>\n",
       "      <td>NaN</td>\n",
       "      <td>...</td>\n",
       "      <td>Dwallo Elias</td>\n",
       "      <td>Dwallo Elias</td>\n",
       "      <td>SKI686SDDI</td>\n",
       "      <td>NaN</td>\n",
       "      <td>2.700,00</td>\n",
       "      <td>40,00</td>\n",
       "      <td>0,00</td>\n",
       "      <td>2.740,00</td>\n",
       "      <td>NaN</td>\n",
       "      <td>279,00</td>\n",
       "    </tr>\n",
       "    <tr>\n",
       "      <th>1</th>\n",
       "      <td>11244937.0</td>\n",
       "      <td>12366966</td>\n",
       "      <td>Payment</td>\n",
       "      <td>Successful</td>\n",
       "      <td>18/11/2024 11:24:46 AM</td>\n",
       "      <td>Francis Ndeta</td>\n",
       "      <td>254796773030</td>\n",
       "      <td>MpesaPhoneNumber</td>\n",
       "      <td>NaN</td>\n",
       "      <td>NaN</td>\n",
       "      <td>...</td>\n",
       "      <td>Dwallo Elias</td>\n",
       "      <td>Dwallo Elias</td>\n",
       "      <td>SKI486ABAO</td>\n",
       "      <td>NaN</td>\n",
       "      <td>7.800,00</td>\n",
       "      <td>40,00</td>\n",
       "      <td>0,00</td>\n",
       "      <td>7.840,00</td>\n",
       "      <td>NaN</td>\n",
       "      <td>3.019,00</td>\n",
       "    </tr>\n",
       "    <tr>\n",
       "      <th>2</th>\n",
       "      <td>11244912.0</td>\n",
       "      <td>12366928</td>\n",
       "      <td>Payment</td>\n",
       "      <td>Successful</td>\n",
       "      <td>18/11/2024 11:20:29 AM</td>\n",
       "      <td>Chrispinus Odera</td>\n",
       "      <td>254796773030</td>\n",
       "      <td>MpesaPhoneNumber</td>\n",
       "      <td>NaN</td>\n",
       "      <td>NaN</td>\n",
       "      <td>...</td>\n",
       "      <td>Dwallo Elias</td>\n",
       "      <td>Dwallo Elias</td>\n",
       "      <td>SKI685QE9Y</td>\n",
       "      <td>NaN</td>\n",
       "      <td>7.800,00</td>\n",
       "      <td>40,00</td>\n",
       "      <td>0,00</td>\n",
       "      <td>7.840,00</td>\n",
       "      <td>NaN</td>\n",
       "      <td>10.859,00</td>\n",
       "    </tr>\n",
       "    <tr>\n",
       "      <th>3</th>\n",
       "      <td>11244883.0</td>\n",
       "      <td>12366897</td>\n",
       "      <td>Payment</td>\n",
       "      <td>Successful</td>\n",
       "      <td>18/11/2024 11:17:00 AM</td>\n",
       "      <td>Peter Thuku</td>\n",
       "      <td>254723476055</td>\n",
       "      <td>MpesaPhoneNumber</td>\n",
       "      <td>NaN</td>\n",
       "      <td>NaN</td>\n",
       "      <td>...</td>\n",
       "      <td>Dwallo Elias</td>\n",
       "      <td>Dwallo Elias</td>\n",
       "      <td>SKI1859YMN</td>\n",
       "      <td>NaN</td>\n",
       "      <td>8.400,00</td>\n",
       "      <td>40,00</td>\n",
       "      <td>0,00</td>\n",
       "      <td>8.440,00</td>\n",
       "      <td>NaN</td>\n",
       "      <td>18.699,00</td>\n",
       "    </tr>\n",
       "    <tr>\n",
       "      <th>4</th>\n",
       "      <td>11244869.0</td>\n",
       "      <td>12366860</td>\n",
       "      <td>Payment</td>\n",
       "      <td>Successful</td>\n",
       "      <td>18/11/2024 11:14:31 AM</td>\n",
       "      <td>John Irungu</td>\n",
       "      <td>254720736996</td>\n",
       "      <td>MpesaPhoneNumber</td>\n",
       "      <td>NaN</td>\n",
       "      <td>NaN</td>\n",
       "      <td>...</td>\n",
       "      <td>Dwallo Elias</td>\n",
       "      <td>Dwallo Elias</td>\n",
       "      <td>SKI584YKF9</td>\n",
       "      <td>NaN</td>\n",
       "      <td>7.500,00</td>\n",
       "      <td>40,00</td>\n",
       "      <td>0,00</td>\n",
       "      <td>7.540,00</td>\n",
       "      <td>NaN</td>\n",
       "      <td>27.139,00</td>\n",
       "    </tr>\n",
       "  </tbody>\n",
       "</table>\n",
       "<p>5 rows × 21 columns</p>\n",
       "</div>"
      ],
      "text/plain": [
       "   ApprovalId  Transaction Id Transaction Type Transaction Status  \\\n",
       "0  11244964.0        12367005          Payment         Successful   \n",
       "1  11244937.0        12366966          Payment         Successful   \n",
       "2  11244912.0        12366928          Payment         Successful   \n",
       "3  11244883.0        12366897          Payment         Successful   \n",
       "4  11244869.0        12366860          Payment         Successful   \n",
       "\n",
       "                     Date      Account Name Account Number      Account Type  \\\n",
       "0  18/11/2024 11:28:32 AM  Elizaphan Ombaso   254713947710  MpesaPhoneNumber   \n",
       "1  18/11/2024 11:24:46 AM     Francis Ndeta   254796773030  MpesaPhoneNumber   \n",
       "2  18/11/2024 11:20:29 AM  Chrispinus Odera   254796773030  MpesaPhoneNumber   \n",
       "3  18/11/2024 11:17:00 AM       Peter Thuku   254723476055  MpesaPhoneNumber   \n",
       "4  18/11/2024 11:14:31 AM      John Irungu    254720736996  MpesaPhoneNumber   \n",
       "\n",
       "   Payment Category  Cheque Number  ...  Initiated By Approved/Rejected By  \\\n",
       "0               NaN            NaN  ...  Dwallo Elias         Dwallo Elias   \n",
       "1               NaN            NaN  ...  Dwallo Elias         Dwallo Elias   \n",
       "2               NaN            NaN  ...  Dwallo Elias         Dwallo Elias   \n",
       "3               NaN            NaN  ...  Dwallo Elias         Dwallo Elias   \n",
       "4               NaN            NaN  ...  Dwallo Elias         Dwallo Elias   \n",
       "\n",
       "  Receipt Number Reference Id    Amount Charges Commission Amount     Debit  \\\n",
       "0     SKI686SDDI          NaN  2.700,00   40,00              0,00  2.740,00   \n",
       "1     SKI486ABAO          NaN  7.800,00   40,00              0,00  7.840,00   \n",
       "2     SKI685QE9Y          NaN  7.800,00   40,00              0,00  7.840,00   \n",
       "3     SKI1859YMN          NaN  8.400,00   40,00              0,00  8.440,00   \n",
       "4     SKI584YKF9          NaN  7.500,00   40,00              0,00  7.540,00   \n",
       "\n",
       "  Credit Balance After  \n",
       "0    NaN        279,00  \n",
       "1    NaN      3.019,00  \n",
       "2    NaN     10.859,00  \n",
       "3    NaN     18.699,00  \n",
       "4    NaN     27.139,00  \n",
       "\n",
       "[5 rows x 21 columns]"
      ]
     },
     "execution_count": 1,
     "metadata": {},
     "output_type": "execute_result"
    }
   ],
   "source": [
    "import numpy as np\n",
    "import pandas as pd\n",
    "import matplotlib.pyplot as plt\n",
    "\n",
    "df = pd.read_csv('Logistics.csv', delimiter=';')  \n",
    "df.head()\n"
   ]
  },
  {
   "cell_type": "code",
   "execution_count": 2,
   "metadata": {},
   "outputs": [
    {
     "name": "stdout",
     "output_type": "stream",
     "text": [
      "<class 'pandas.core.frame.DataFrame'>\n",
      "RangeIndex: 407 entries, 0 to 406\n",
      "Data columns (total 21 columns):\n",
      " #   Column                Non-Null Count  Dtype  \n",
      "---  ------                --------------  -----  \n",
      " 0   ApprovalId            376 non-null    float64\n",
      " 1   Transaction Id        407 non-null    int64  \n",
      " 2   Transaction Type      407 non-null    object \n",
      " 3   Transaction Status    407 non-null    object \n",
      " 4   Date                  407 non-null    object \n",
      " 5   Account Name          391 non-null    object \n",
      " 6   Account Number        338 non-null    object \n",
      " 7   Account Type          376 non-null    object \n",
      " 8   Payment Category      0 non-null      float64\n",
      " 9   Cheque Number         0 non-null      float64\n",
      " 10  Remark                391 non-null    object \n",
      " 11  Initiated By          376 non-null    object \n",
      " 12  Approved/Rejected By  372 non-null    object \n",
      " 13  Receipt Number        393 non-null    object \n",
      " 14  Reference Id          0 non-null      float64\n",
      " 15  Amount                407 non-null    object \n",
      " 16  Charges               407 non-null    object \n",
      " 17  Commission Amount     407 non-null    object \n",
      " 18  Debit                 376 non-null    object \n",
      " 19  Credit                31 non-null     object \n",
      " 20  Balance After         403 non-null    object \n",
      "dtypes: float64(4), int64(1), object(16)\n",
      "memory usage: 66.9+ KB\n"
     ]
    }
   ],
   "source": [
    "df.info()"
   ]
  },
  {
   "cell_type": "code",
   "execution_count": 3,
   "metadata": {},
   "outputs": [],
   "source": [
    "df = df.drop(['Payment Category', 'Reference Id','Cheque Number'], axis=1)\n"
   ]
  },
  {
   "cell_type": "code",
   "execution_count": 4,
   "metadata": {},
   "outputs": [
    {
     "name": "stdout",
     "output_type": "stream",
     "text": [
      "Index(['ApprovalId', 'Transaction Id', 'Transaction Type',\n",
      "       'Transaction Status', 'Date', 'Account Name', 'Account Number',\n",
      "       'Account Type', 'Remark', 'Initiated By', 'Approved/Rejected By',\n",
      "       'Receipt Number', 'Amount', 'Charges', 'Commission Amount', 'Debit',\n",
      "       'Credit', 'Balance After'],\n",
      "      dtype='object')\n"
     ]
    }
   ],
   "source": [
    "print(df.columns)\n"
   ]
  },
  {
   "cell_type": "code",
   "execution_count": 5,
   "metadata": {},
   "outputs": [
    {
     "name": "stdout",
     "output_type": "stream",
     "text": [
      "<class 'pandas.core.frame.DataFrame'>\n",
      "RangeIndex: 407 entries, 0 to 406\n",
      "Data columns (total 18 columns):\n",
      " #   Column                Non-Null Count  Dtype  \n",
      "---  ------                --------------  -----  \n",
      " 0   ApprovalId            376 non-null    float64\n",
      " 1   Transaction Id        407 non-null    int64  \n",
      " 2   Transaction Type      407 non-null    object \n",
      " 3   Transaction Status    407 non-null    object \n",
      " 4   Date                  407 non-null    object \n",
      " 5   Account Name          391 non-null    object \n",
      " 6   Account Number        338 non-null    object \n",
      " 7   Account Type          376 non-null    object \n",
      " 8   Remark                391 non-null    object \n",
      " 9   Initiated By          376 non-null    object \n",
      " 10  Approved/Rejected By  372 non-null    object \n",
      " 11  Receipt Number        393 non-null    object \n",
      " 12  Amount                407 non-null    object \n",
      " 13  Charges               407 non-null    object \n",
      " 14  Commission Amount     407 non-null    object \n",
      " 15  Debit                 376 non-null    object \n",
      " 16  Credit                31 non-null     object \n",
      " 17  Balance After         403 non-null    object \n",
      "dtypes: float64(1), int64(1), object(16)\n",
      "memory usage: 57.4+ KB\n"
     ]
    }
   ],
   "source": [
    "df.info()"
   ]
  },
  {
   "cell_type": "code",
   "execution_count": 6,
   "metadata": {},
   "outputs": [
    {
     "name": "stdout",
     "output_type": "stream",
     "text": [
      "0      2.700,00\n",
      "1      7.800,00\n",
      "2      7.800,00\n",
      "3      8.400,00\n",
      "4      7.500,00\n",
      "5      4.600,00\n",
      "6      4.000,00\n",
      "7     10.000,00\n",
      "8      1.250,00\n",
      "9      3.500,00\n",
      "10    50.000,00\n",
      "11     2.000,00\n",
      "12     2.000,00\n",
      "13     1.500,00\n",
      "14     7.800,00\n",
      "15     7.800,00\n",
      "16     7.050,00\n",
      "17     4.500,00\n",
      "18     5.000,00\n",
      "19       150,00\n",
      "Name: Amount, dtype: object\n"
     ]
    }
   ],
   "source": [
    "print(df['Amount'].head(20))"
   ]
  },
  {
   "cell_type": "code",
   "execution_count": 7,
   "metadata": {},
   "outputs": [
    {
     "data": {
      "text/plain": [
       "ApprovalId               31\n",
       "Transaction Id            0\n",
       "Transaction Type          0\n",
       "Transaction Status        0\n",
       "Date                      0\n",
       "Account Name             16\n",
       "Account Number           69\n",
       "Account Type             31\n",
       "Remark                   16\n",
       "Initiated By             31\n",
       "Approved/Rejected By     35\n",
       "Receipt Number           14\n",
       "Amount                    0\n",
       "Charges                   0\n",
       "Commission Amount         0\n",
       "Debit                    31\n",
       "Credit                  376\n",
       "Balance After             4\n",
       "dtype: int64"
      ]
     },
     "execution_count": 7,
     "metadata": {},
     "output_type": "execute_result"
    }
   ],
   "source": [
    "df.isnull().sum()"
   ]
  },
  {
   "cell_type": "code",
   "execution_count": 8,
   "metadata": {},
   "outputs": [],
   "source": [
    "df['Account Name'] = df['Account Name'].fillna('Unknown')\n",
    "df['Transaction Type'] = df['Transaction Type'].fillna('Unknown')\n"
   ]
  },
  {
   "cell_type": "code",
   "execution_count": 9,
   "metadata": {},
   "outputs": [
    {
     "name": "stdout",
     "output_type": "stream",
     "text": [
      "                 Date  Month\n",
      "0 2024-11-18 11:28:32     11\n",
      "1 2024-11-18 11:24:46     11\n",
      "2 2024-11-18 11:20:29     11\n",
      "3 2024-11-18 11:17:00     11\n",
      "4 2024-11-18 11:14:31     11\n",
      "                   Date  Month\n",
      "402 2024-07-01 09:20:09      7\n",
      "403 2024-07-01 09:20:09      7\n",
      "404 2024-07-01 09:15:10      7\n",
      "405 2024-07-01 09:15:09      7\n",
      "406 2024-07-01 09:14:16      7\n"
     ]
    },
    {
     "name": "stderr",
     "output_type": "stream",
     "text": [
      "/var/folders/h6/s9ct7vn92bq_mk0vg3hybfh40000gn/T/ipykernel_53025/2612491031.py:1: UserWarning: Parsing dates in %d/%m/%Y %I:%M:%S %p format when dayfirst=False (the default) was specified. Pass `dayfirst=True` or specify a format to silence this warning.\n",
      "  df['Date'] = pd.to_datetime(df['Date'], errors='coerce')\n"
     ]
    }
   ],
   "source": [
    "df['Date'] = pd.to_datetime(df['Date'], errors='coerce')\n",
    "df['Month'] = df['Date'].dt.month\n",
    "print(df[['Date', 'Month']].head())\n",
    "print(df[['Date', 'Month']].tail())\n"
   ]
  },
  {
   "cell_type": "code",
   "execution_count": 10,
   "metadata": {},
   "outputs": [
    {
     "name": "stdout",
     "output_type": "stream",
     "text": [
      "ApprovalId                     float64\n",
      "Transaction Id                   int64\n",
      "Transaction Type                object\n",
      "Transaction Status              object\n",
      "Date                    datetime64[ns]\n",
      "Account Name                    object\n",
      "Account Number                  object\n",
      "Account Type                    object\n",
      "Remark                          object\n",
      "Initiated By                    object\n",
      "Approved/Rejected By            object\n",
      "Receipt Number                  object\n",
      "Amount                          object\n",
      "Charges                         object\n",
      "Commission Amount               object\n",
      "Debit                           object\n",
      "Credit                          object\n",
      "Balance After                   object\n",
      "Month                            int32\n",
      "dtype: object\n"
     ]
    }
   ],
   "source": [
    "print(df.dtypes)\n"
   ]
  },
  {
   "cell_type": "code",
   "execution_count": 11,
   "metadata": {},
   "outputs": [
    {
     "name": "stdout",
     "output_type": "stream",
     "text": [
      "   Amount\n",
      "0  2700.0\n",
      "1  7800.0\n",
      "2  7800.0\n",
      "3  8400.0\n",
      "4  7500.0\n"
     ]
    }
   ],
   "source": [
    "# Replace thousands separator (dot) with an empty string and decimal separator (comma) with a dot\n",
    "df['Amount'] = df['Amount'].replace({r'\\.': '', r',': '.'}, regex=True)\n",
    "\n",
    "# Convert to numeric (float)\n",
    "df['Amount'] = pd.to_numeric(df['Amount'], errors='coerce')\n",
    "\n",
    "# Check the result\n",
    "print(df[['Amount']].head())\n"
   ]
  },
  {
   "cell_type": "code",
   "execution_count": 12,
   "metadata": {},
   "outputs": [],
   "source": [
    "df['Charges'] = df['Charges'].replace({r'[^\\d.]': ''}, regex=True)\n",
    "\n",
    "df['Charges'] = pd.to_numeric(df['Charges'], errors='coerce')"
   ]
  },
  {
   "cell_type": "code",
   "execution_count": 13,
   "metadata": {},
   "outputs": [
    {
     "data": {
      "text/plain": [
       "0       2700.0\n",
       "1       7800.0\n",
       "2       7800.0\n",
       "3       8400.0\n",
       "4       7500.0\n",
       "        ...   \n",
       "402     1450.0\n",
       "403     1400.0\n",
       "404     2700.0\n",
       "405     6350.0\n",
       "406    10000.0\n",
       "Name: Amount, Length: 407, dtype: float64"
      ]
     },
     "execution_count": 13,
     "metadata": {},
     "output_type": "execute_result"
    }
   ],
   "source": [
    "df.Amount"
   ]
  },
  {
   "cell_type": "code",
   "execution_count": 14,
   "metadata": {},
   "outputs": [
    {
     "name": "stdout",
     "output_type": "stream",
     "text": [
      "0    2700.0\n",
      "1    7800.0\n",
      "2    7800.0\n",
      "3    8400.0\n",
      "4    7500.0\n",
      "Name: Amount, dtype: float64\n",
      "[2.7000e+03 7.8000e+03 8.4000e+03 7.5000e+03 4.6000e+03 4.0000e+03\n",
      " 1.0000e+04 1.2500e+03 3.5000e+03 5.0000e+04 2.0000e+03 1.5000e+03\n",
      " 7.0500e+03 4.5000e+03 5.0000e+03 1.5000e+02 1.0000e+02 1.4000e+03\n",
      " 3.0000e+02 3.9500e+03 2.0000e+02 2.3000e+03 4.0000e+04 1.6500e+03\n",
      " 1.5000e+04 4.4000e+03 3.0000e+03 8.0000e+02 6.0000e+02 5.6000e+02\n",
      " 2.2000e+03 6.5000e+03 5.1000e+03 3.3500e+03 6.1500e+03 6.0000e+03\n",
      " 2.5000e+02 7.5000e+02 3.0500e+03 9.0000e+03 3.4000e+03 2.6000e+03\n",
      " 4.0000e+02 8.5000e+03 2.8000e+04 8.0000e+03 2.0800e+03 6.4000e+02\n",
      " 1.0000e+03 7.9000e+03 3.9000e+03 5.7470e+03 6.4500e+03 2.8500e+03\n",
      " 5.4000e+03 1.8000e+04 9.5000e+02 2.2230e+03 5.2000e+03 1.0500e+03\n",
      " 6.7000e+03 7.0000e+02 1.9000e+03 5.0000e+02 2.3500e+03 5.6000e+03\n",
      " 5.0000e+01 1.6000e+03 9.0000e+02 3.5000e+02 4.5000e+02 1.2000e+03\n",
      " 2.0000e+04 1.7000e+03 1.3000e+03 2.8000e+03 1.4700e+03 4.1000e+02\n",
      " 8.2000e+02 7.4400e+02 1.8500e+03 5.5000e+02 1.0450e+03 3.0000e+04\n",
      " 2.5000e+03 2.6500e+03 3.6000e+03 2.5500e+03 1.7500e+03 4.6500e+03\n",
      " 6.5000e+02 2.2500e+03 1.3500e+03 5.8500e+03 2.0100e+04 2.7500e+03\n",
      " 1.9500e+03 6.8000e+03 3.7500e+03 6.0000e+04 8.9000e+02 1.4500e+03\n",
      " 2.4500e+03 6.9500e+03 5.1500e+03 1.1670e+03 1.0167e+04 5.8240e+03\n",
      " 7.4000e+03 1.1000e+03 2.1500e+03 3.0900e+03 8.3500e+03 4.3000e+03\n",
      " 3.5960e+03 7.7500e+03 3.6000e+02 2.1000e+03 5.5000e+03 4.2500e+03\n",
      " 7.8500e+03 6.6000e+03 8.5500e+03 7.1000e+02 6.3500e+03]\n",
      "0\n"
     ]
    }
   ],
   "source": [
    "print(df['Amount'].head())\n",
    "print(df['Amount'].unique()) \n",
    "df['Amount'] = df['Amount'].replace({r'\\.': '', r',': '.'}, regex=True)  \n",
    "df['Amount'] = pd.to_numeric(df['Amount'], errors='coerce')  \n",
    "\n",
    "print(df['Amount'].isna().sum())  \n",
    "\n"
   ]
  },
  {
   "cell_type": "code",
   "execution_count": 15,
   "metadata": {},
   "outputs": [
    {
     "name": "stdout",
     "output_type": "stream",
     "text": [
      "ApprovalId                     float64\n",
      "Transaction Id                   int64\n",
      "Transaction Type                object\n",
      "Transaction Status              object\n",
      "Date                    datetime64[ns]\n",
      "Account Name                    object\n",
      "Account Number                  object\n",
      "Account Type                    object\n",
      "Remark                          object\n",
      "Initiated By                    object\n",
      "Approved/Rejected By            object\n",
      "Receipt Number                  object\n",
      "Amount                         float64\n",
      "Charges                          int64\n",
      "Commission Amount               object\n",
      "Debit                           object\n",
      "Credit                          object\n",
      "Balance After                   object\n",
      "Month                            int32\n",
      "dtype: object\n"
     ]
    }
   ],
   "source": [
    "print(df.dtypes) "
   ]
  },
  {
   "cell_type": "code",
   "execution_count": 16,
   "metadata": {},
   "outputs": [
    {
     "name": "stdout",
     "output_type": "stream",
     "text": [
      "   Month Month_Name\n",
      "0     11   November\n",
      "1     11   November\n",
      "2     11   November\n",
      "3     11   November\n",
      "4     11   November\n"
     ]
    }
   ],
   "source": [
    "month_names = {\n",
    "    1: 'January', 2: 'February', 3: 'March', 4: 'April', 5: 'May', 6: 'June',\n",
    "    7: 'July', 8: 'August', 9: 'September', 10: 'October', 11: 'November', 12: 'December'\n",
    "}\n",
    "\n",
    "df['Month_Name'] = df['Month'].map(month_names)\n",
    "\n",
    "print(df[['Month', 'Month_Name']].head())\n"
   ]
  },
  {
   "cell_type": "code",
   "execution_count": 17,
   "metadata": {},
   "outputs": [
    {
     "name": "stdout",
     "output_type": "stream",
     "text": [
      "  Month_Name    Amount  Charges\n",
      "1       July  453556.0   340000\n",
      "0     August  529098.0   316000\n",
      "4  September  379889.0   288000\n",
      "3    October  556840.0   352000\n",
      "2   November  327410.0   196000\n"
     ]
    }
   ],
   "source": [
    "monthly_totals = df.groupby('Month_Name')[['Amount', 'Charges']].sum().reset_index()\n",
    "\n",
    "monthly_totals['Month_Name'] = pd.to_datetime(monthly_totals['Month_Name'], format='%B').dt.month_name()\n",
    "monthly_totals = monthly_totals.sort_values('Month_Name', key=lambda x: pd.to_datetime(x, format='%B'))\n",
    "\n",
    "print(monthly_totals.head())\n",
    "\n"
   ]
  },
  {
   "cell_type": "code",
   "execution_count": 18,
   "metadata": {},
   "outputs": [
    {
     "name": "stdout",
     "output_type": "stream",
     "text": [
      "<class 'pandas.core.frame.DataFrame'>\n",
      "RangeIndex: 407 entries, 0 to 406\n",
      "Data columns (total 20 columns):\n",
      " #   Column                Non-Null Count  Dtype         \n",
      "---  ------                --------------  -----         \n",
      " 0   ApprovalId            376 non-null    float64       \n",
      " 1   Transaction Id        407 non-null    int64         \n",
      " 2   Transaction Type      407 non-null    object        \n",
      " 3   Transaction Status    407 non-null    object        \n",
      " 4   Date                  407 non-null    datetime64[ns]\n",
      " 5   Account Name          407 non-null    object        \n",
      " 6   Account Number        338 non-null    object        \n",
      " 7   Account Type          376 non-null    object        \n",
      " 8   Remark                391 non-null    object        \n",
      " 9   Initiated By          376 non-null    object        \n",
      " 10  Approved/Rejected By  372 non-null    object        \n",
      " 11  Receipt Number        393 non-null    object        \n",
      " 12  Amount                407 non-null    float64       \n",
      " 13  Charges               407 non-null    int64         \n",
      " 14  Commission Amount     407 non-null    object        \n",
      " 15  Debit                 376 non-null    object        \n",
      " 16  Credit                31 non-null     object        \n",
      " 17  Balance After         403 non-null    object        \n",
      " 18  Month                 407 non-null    int32         \n",
      " 19  Month_Name            407 non-null    object        \n",
      "dtypes: datetime64[ns](1), float64(2), int32(1), int64(2), object(14)\n",
      "memory usage: 62.1+ KB\n"
     ]
    }
   ],
   "source": [
    "df.info()"
   ]
  },
  {
   "cell_type": "code",
   "execution_count": 19,
   "metadata": {},
   "outputs": [
    {
     "data": {
      "text/plain": [
       "0             Daily electric bike usage for 5 days\n",
       "1                        Daily Kakamega bike usage\n",
       "2                        Daily Kakamega bike usage\n",
       "3      Daily rider delivery for 6 days/TL support/\n",
       "4      Daily rider delivery for 6 days/TL support/\n",
       "                          ...                     \n",
       "402              CBD trolley 2 days Delivery Trips\n",
       "403              Umoja Rider 4 days Delivery Trips\n",
       "404             Kayole Rider 4 days Delivery Trips\n",
       "405             Kayole Rider 5 days Delivery Trips\n",
       "406                  Cossim kakamega Van Week Fuel\n",
       "Name: Remark, Length: 407, dtype: object"
      ]
     },
     "execution_count": 19,
     "metadata": {},
     "output_type": "execute_result"
    }
   ],
   "source": [
    "df.Remark"
   ]
  },
  {
   "cell_type": "code",
   "execution_count": 21,
   "metadata": {},
   "outputs": [
    {
     "name": "stdout",
     "output_type": "stream",
     "text": [
      "                                          Remark   Remark_Category\n",
      "0           Daily electric bike usage for 5 days        Bike Usage\n",
      "1                      Daily Kakamega bike usage        Bike Usage\n",
      "2                      Daily Kakamega bike usage        Bike Usage\n",
      "3    Daily rider delivery for 6 days/TL support/    Rider Delivery\n",
      "4    Daily rider delivery for 6 days/TL support/    Rider Delivery\n",
      "..                                           ...               ...\n",
      "402            CBD trolley 2 days Delivery Trips  Trolley Delivery\n",
      "403            Umoja Rider 4 days Delivery Trips    Delivery Trips\n",
      "404           Kayole Rider 4 days Delivery Trips    Delivery Trips\n",
      "405           Kayole Rider 5 days Delivery Trips    Delivery Trips\n",
      "406                Cossim kakamega Van Week Fuel              Fuel\n",
      "\n",
      "[407 rows x 2 columns]\n"
     ]
    }
   ],
   "source": [
    "# Categorization function with error handling for non-string values\n",
    "def categorize_remarks(remark):\n",
    "    if not isinstance(remark, str):  # Check if the remark is not a string\n",
    "        return 'Other'\n",
    "    \n",
    "    # Convert to lowercase and apply categorization logic\n",
    "    remark = remark.lower()\n",
    "    if 'bike usage' in remark:\n",
    "        return 'Bike Usage'\n",
    "    elif 'rider delivery' in remark:\n",
    "        return 'Rider Delivery'\n",
    "    elif 'trolley' in remark:\n",
    "        return 'Trolley Delivery'\n",
    "    elif 'van' in remark and 'fuel' in remark:\n",
    "        return 'Fuel'\n",
    "    elif 'delivery trips' in remark:\n",
    "        return 'Delivery Trips'\n",
    "    else:\n",
    "        return 'Other'\n",
    "\n",
    "# Apply categorization function\n",
    "df['Remark_Category'] = df['Remark'].apply(categorize_remarks)\n",
    "\n",
    "# Display the result\n",
    "print(df[['Remark', 'Remark_Category']])\n",
    "\n"
   ]
  },
  {
   "cell_type": "code",
   "execution_count": 22,
   "metadata": {},
   "outputs": [
    {
     "data": {
      "text/html": [
       "<div>\n",
       "<style scoped>\n",
       "    .dataframe tbody tr th:only-of-type {\n",
       "        vertical-align: middle;\n",
       "    }\n",
       "\n",
       "    .dataframe tbody tr th {\n",
       "        vertical-align: top;\n",
       "    }\n",
       "\n",
       "    .dataframe thead th {\n",
       "        text-align: right;\n",
       "    }\n",
       "</style>\n",
       "<table border=\"1\" class=\"dataframe\">\n",
       "  <thead>\n",
       "    <tr style=\"text-align: right;\">\n",
       "      <th></th>\n",
       "      <th>ApprovalId</th>\n",
       "      <th>Transaction Id</th>\n",
       "      <th>Transaction Type</th>\n",
       "      <th>Transaction Status</th>\n",
       "      <th>Date</th>\n",
       "      <th>Account Name</th>\n",
       "      <th>Account Number</th>\n",
       "      <th>Account Type</th>\n",
       "      <th>Remark</th>\n",
       "      <th>Initiated By</th>\n",
       "      <th>...</th>\n",
       "      <th>Receipt Number</th>\n",
       "      <th>Amount</th>\n",
       "      <th>Charges</th>\n",
       "      <th>Commission Amount</th>\n",
       "      <th>Debit</th>\n",
       "      <th>Credit</th>\n",
       "      <th>Balance After</th>\n",
       "      <th>Month</th>\n",
       "      <th>Month_Name</th>\n",
       "      <th>Remark_Category</th>\n",
       "    </tr>\n",
       "  </thead>\n",
       "  <tbody>\n",
       "    <tr>\n",
       "      <th>0</th>\n",
       "      <td>11244964.0</td>\n",
       "      <td>12367005</td>\n",
       "      <td>Payment</td>\n",
       "      <td>Successful</td>\n",
       "      <td>2024-11-18 11:28:32</td>\n",
       "      <td>Elizaphan Ombaso</td>\n",
       "      <td>254713947710</td>\n",
       "      <td>MpesaPhoneNumber</td>\n",
       "      <td>Daily electric bike usage for 5 days</td>\n",
       "      <td>Dwallo Elias</td>\n",
       "      <td>...</td>\n",
       "      <td>SKI686SDDI</td>\n",
       "      <td>2700.0</td>\n",
       "      <td>4000</td>\n",
       "      <td>0,00</td>\n",
       "      <td>2.740,00</td>\n",
       "      <td>NaN</td>\n",
       "      <td>279,00</td>\n",
       "      <td>11</td>\n",
       "      <td>November</td>\n",
       "      <td>Bike Usage</td>\n",
       "    </tr>\n",
       "    <tr>\n",
       "      <th>1</th>\n",
       "      <td>11244937.0</td>\n",
       "      <td>12366966</td>\n",
       "      <td>Payment</td>\n",
       "      <td>Successful</td>\n",
       "      <td>2024-11-18 11:24:46</td>\n",
       "      <td>Francis Ndeta</td>\n",
       "      <td>254796773030</td>\n",
       "      <td>MpesaPhoneNumber</td>\n",
       "      <td>Daily Kakamega bike usage</td>\n",
       "      <td>Dwallo Elias</td>\n",
       "      <td>...</td>\n",
       "      <td>SKI486ABAO</td>\n",
       "      <td>7800.0</td>\n",
       "      <td>4000</td>\n",
       "      <td>0,00</td>\n",
       "      <td>7.840,00</td>\n",
       "      <td>NaN</td>\n",
       "      <td>3.019,00</td>\n",
       "      <td>11</td>\n",
       "      <td>November</td>\n",
       "      <td>Bike Usage</td>\n",
       "    </tr>\n",
       "    <tr>\n",
       "      <th>2</th>\n",
       "      <td>11244912.0</td>\n",
       "      <td>12366928</td>\n",
       "      <td>Payment</td>\n",
       "      <td>Successful</td>\n",
       "      <td>2024-11-18 11:20:29</td>\n",
       "      <td>Chrispinus Odera</td>\n",
       "      <td>254796773030</td>\n",
       "      <td>MpesaPhoneNumber</td>\n",
       "      <td>Daily Kakamega bike usage</td>\n",
       "      <td>Dwallo Elias</td>\n",
       "      <td>...</td>\n",
       "      <td>SKI685QE9Y</td>\n",
       "      <td>7800.0</td>\n",
       "      <td>4000</td>\n",
       "      <td>0,00</td>\n",
       "      <td>7.840,00</td>\n",
       "      <td>NaN</td>\n",
       "      <td>10.859,00</td>\n",
       "      <td>11</td>\n",
       "      <td>November</td>\n",
       "      <td>Bike Usage</td>\n",
       "    </tr>\n",
       "    <tr>\n",
       "      <th>3</th>\n",
       "      <td>11244883.0</td>\n",
       "      <td>12366897</td>\n",
       "      <td>Payment</td>\n",
       "      <td>Successful</td>\n",
       "      <td>2024-11-18 11:17:00</td>\n",
       "      <td>Peter Thuku</td>\n",
       "      <td>254723476055</td>\n",
       "      <td>MpesaPhoneNumber</td>\n",
       "      <td>Daily rider delivery for 6 days/TL support/</td>\n",
       "      <td>Dwallo Elias</td>\n",
       "      <td>...</td>\n",
       "      <td>SKI1859YMN</td>\n",
       "      <td>8400.0</td>\n",
       "      <td>4000</td>\n",
       "      <td>0,00</td>\n",
       "      <td>8.440,00</td>\n",
       "      <td>NaN</td>\n",
       "      <td>18.699,00</td>\n",
       "      <td>11</td>\n",
       "      <td>November</td>\n",
       "      <td>Rider Delivery</td>\n",
       "    </tr>\n",
       "    <tr>\n",
       "      <th>4</th>\n",
       "      <td>11244869.0</td>\n",
       "      <td>12366860</td>\n",
       "      <td>Payment</td>\n",
       "      <td>Successful</td>\n",
       "      <td>2024-11-18 11:14:31</td>\n",
       "      <td>John Irungu</td>\n",
       "      <td>254720736996</td>\n",
       "      <td>MpesaPhoneNumber</td>\n",
       "      <td>Daily rider delivery for 6 days/TL support/</td>\n",
       "      <td>Dwallo Elias</td>\n",
       "      <td>...</td>\n",
       "      <td>SKI584YKF9</td>\n",
       "      <td>7500.0</td>\n",
       "      <td>4000</td>\n",
       "      <td>0,00</td>\n",
       "      <td>7.540,00</td>\n",
       "      <td>NaN</td>\n",
       "      <td>27.139,00</td>\n",
       "      <td>11</td>\n",
       "      <td>November</td>\n",
       "      <td>Rider Delivery</td>\n",
       "    </tr>\n",
       "  </tbody>\n",
       "</table>\n",
       "<p>5 rows × 21 columns</p>\n",
       "</div>"
      ],
      "text/plain": [
       "   ApprovalId  Transaction Id Transaction Type Transaction Status  \\\n",
       "0  11244964.0        12367005          Payment         Successful   \n",
       "1  11244937.0        12366966          Payment         Successful   \n",
       "2  11244912.0        12366928          Payment         Successful   \n",
       "3  11244883.0        12366897          Payment         Successful   \n",
       "4  11244869.0        12366860          Payment         Successful   \n",
       "\n",
       "                 Date      Account Name Account Number      Account Type  \\\n",
       "0 2024-11-18 11:28:32  Elizaphan Ombaso   254713947710  MpesaPhoneNumber   \n",
       "1 2024-11-18 11:24:46     Francis Ndeta   254796773030  MpesaPhoneNumber   \n",
       "2 2024-11-18 11:20:29  Chrispinus Odera   254796773030  MpesaPhoneNumber   \n",
       "3 2024-11-18 11:17:00       Peter Thuku   254723476055  MpesaPhoneNumber   \n",
       "4 2024-11-18 11:14:31      John Irungu    254720736996  MpesaPhoneNumber   \n",
       "\n",
       "                                        Remark  Initiated By  ...  \\\n",
       "0         Daily electric bike usage for 5 days  Dwallo Elias  ...   \n",
       "1                    Daily Kakamega bike usage  Dwallo Elias  ...   \n",
       "2                    Daily Kakamega bike usage  Dwallo Elias  ...   \n",
       "3  Daily rider delivery for 6 days/TL support/  Dwallo Elias  ...   \n",
       "4  Daily rider delivery for 6 days/TL support/  Dwallo Elias  ...   \n",
       "\n",
       "  Receipt Number  Amount  Charges  Commission Amount     Debit Credit  \\\n",
       "0     SKI686SDDI  2700.0     4000               0,00  2.740,00    NaN   \n",
       "1     SKI486ABAO  7800.0     4000               0,00  7.840,00    NaN   \n",
       "2     SKI685QE9Y  7800.0     4000               0,00  7.840,00    NaN   \n",
       "3     SKI1859YMN  8400.0     4000               0,00  8.440,00    NaN   \n",
       "4     SKI584YKF9  7500.0     4000               0,00  7.540,00    NaN   \n",
       "\n",
       "  Balance After Month  Month_Name Remark_Category  \n",
       "0        279,00    11    November      Bike Usage  \n",
       "1      3.019,00    11    November      Bike Usage  \n",
       "2     10.859,00    11    November      Bike Usage  \n",
       "3     18.699,00    11    November  Rider Delivery  \n",
       "4     27.139,00    11    November  Rider Delivery  \n",
       "\n",
       "[5 rows x 21 columns]"
      ]
     },
     "execution_count": 22,
     "metadata": {},
     "output_type": "execute_result"
    }
   ],
   "source": [
    "df.head()"
   ]
  },
  {
   "cell_type": "code",
   "execution_count": 24,
   "metadata": {},
   "outputs": [
    {
     "data": {
      "image/png": "[encoded data removed]",
      "text/plain": [
       "<Figure size 1200x600 with 1 Axes>"
      ]
     },
     "metadata": {},
     "output_type": "display_data"
    }
   ],
   "source": [
    "grouped_df = df.groupby(['Remark_Category', 'Month_Name'], as_index=False)['Amount'].sum()\n",
    "\n",
    "# Plotting the data\n",
    "plt.figure(figsize=(12, 6))\n",
    "\n",
    "# Looping through each Remark_Category and plotting it\n",
    "for category in grouped_df['Remark_Category'].unique():\n",
    "    category_data = grouped_df[grouped_df['Remark_Category'] == category]\n",
    "    plt.plot(category_data['Month_Name'], category_data['Amount'], marker='o', label=category)\n",
    "\n",
    "# Customize the plot\n",
    "plt.title('Remark Category vs Month_Name and Amount')\n",
    "plt.xlabel('Month_Name')\n",
    "plt.ylabel('Amount')\n",
    "plt.xticks(rotation=45)  # Rotate month labels for better readability\n",
    "plt.grid(True)\n",
    "plt.legend(title='Remark Category')\n",
    "\n",
    "# Display the plot\n",
    "plt.tight_layout()\n",
    "plt.show()"
   ]
  },
  {
   "cell_type": "code",
   "execution_count": 26,
   "metadata": {},
   "outputs": [
    {
     "data": {
      "image/png": "[encoded data removed]",
      "text/plain": [
       "<Figure size 1200x600 with 1 Axes>"
      ]
     },
     "metadata": {},
     "output_type": "display_data"
    }
   ],
   "source": [
    "# Grouping data by Remark_Category and Month, and summing Amounts\n",
    "grouped_df = df.groupby(['Remark_Category', 'Month_Name'], as_index=False)['Amount'].sum()\n",
    "\n",
    "# Plot each category's data (using bar chart)\n",
    "plt.figure(figsize=(12, 6))\n",
    "for category in grouped_df['Remark_Category'].unique():\n",
    "    category_data = grouped_df[grouped_df['Remark_Category'] == category]\n",
    "    plt.bar(category_data['Month_Name'], category_data['Amount'], label=category, alpha=0.6)\n",
    "\n",
    "# Customize the plot\n",
    "plt.title('Amount by Remark Category and Month')\n",
    "plt.xlabel('Month_Name')\n",
    "plt.ylabel('Amount')\n",
    "plt.legend(title='Remark Category')\n",
    "plt.grid(True)\n",
    "plt.show()\n"
   ]
  }
 ],
 "metadata": {
  "kernelspec": {
   "display_name": "myenv",
   "language": "python",
   "name": "python3"
  },
  "language_info": {
   "codemirror_mode": {
    "name": "ipython",
    "version": 3
   },
   "file_extension": ".py",
   "mimetype": "text/x-python",
   "name": "python",
   "nbconvert_exporter": "python",
   "pygments_lexer": "ipython3",
   "version": "3.13.0"
  }
 },
 "nbformat": 4,
 "nbformat_minor": 2
}
